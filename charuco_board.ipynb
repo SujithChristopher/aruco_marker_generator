{
 "cells": [
  {
   "cell_type": "code",
   "execution_count": 16,
   "metadata": {},
   "outputs": [],
   "source": [
    "from cv2 import aruco\n",
    "import cv2\n",
    "import numpy\n",
    "import matplotlib.pyplot as plt\n",
    "from PIL import Image\n",
    "from io import BytesIO\n",
    "import io\n",
    "from svgwrite import Drawing, rgb\n"
   ]
  },
  {
   "cell_type": "code",
   "execution_count": 17,
   "metadata": {},
   "outputs": [],
   "source": [
    "ARUCO_PARAMETERS = aruco.DetectorParameters()\n",
    "ARUCO_DICT = aruco.getPredefinedDictionary(aruco.DICT_ARUCO_ORIGINAL)\n",
    "squareLength = 0.05\n",
    "markerLength = 0.03\n",
    "\n",
    "board = aruco.CharucoBoard(\n",
    "        size= [4,5],\n",
    "        squareLength = squareLength,\n",
    "        markerLength = markerLength,\n",
    "        dictionary=ARUCO_DICT)"
   ]
  },
  {
   "cell_type": "code",
   "execution_count": 18,
   "metadata": {},
   "outputs": [
    {
     "data": {
      "text/plain": [
       "<matplotlib.image.AxesImage at 0x23092467510>"
      ]
     },
     "execution_count": 18,
     "metadata": {},
     "output_type": "execute_result"
    },
    {
     "data": {
      "image/png": "[encoded data removed]",
      "text/plain": [
       "<Figure size 640x480 with 1 Axes>"
      ]
     },
     "metadata": {},
     "output_type": "display_data"
    }
   ],
   "source": [
    "plt.imshow(board.generateImage(outSize=(200, 280), marginSize=8), cmap='gray')"
   ]
  },
  {
   "cell_type": "code",
   "execution_count": 70,
   "metadata": {},
   "outputs": [],
   "source": [
    "board_img = board.generateImage(outSize=(2380, 3000), marginSize=8)\n",
    "h, w = board_img.shape[:2]"
   ]
  },
  {
   "cell_type": "code",
   "execution_count": 71,
   "metadata": {},
   "outputs": [],
   "source": [
    "output_filename = \"charuco_board.svg\""
   ]
  },
  {
   "cell_type": "code",
   "execution_count": 72,
   "metadata": {},
   "outputs": [],
   "source": [
    "img = Image.fromarray(board_img)\n",
    "img.save('charuco_board.tiff', dpi=(300,300))"
   ]
  },
  {
   "cell_type": "code",
   "execution_count": 69,
   "metadata": {},
   "outputs": [],
   "source": [
    "# h, w = board_img.shape\n",
    "# marker = cv2.resize(board_img, (w, h+2), interpolation=cv2.INTER_NEAREST)\n",
    "# h, w = board_img.shape\n",
    "\n",
    "# # Convert the marker to an SVG image\n",
    "# svg_image = Drawing(filename=output_filename, size=(f\"{w}px\", f\"{h}px\"))\n",
    "# for y in range(h):\n",
    "#     for x in range(w):\n",
    "#         color = \"black\" if board_img[y][x] == 0 else \"white\"\n",
    "#         svg_image.add(svg_image.rect(insert=(x, y), size=(1, 1), fill=color))\n",
    "\n",
    "# svg_image.save()"
   ]
  },
  {
   "cell_type": "code",
   "execution_count": null,
   "metadata": {},
   "outputs": [],
   "source": []
  }
 ],
 "metadata": {
  "kernelspec": {
   "display_name": "py11",
   "language": "python",
   "name": "python3"
  },
  "language_info": {
   "codemirror_mode": {
    "name": "ipython",
    "version": 3
   },
   "file_extension": ".py",
   "mimetype": "text/x-python",
   "name": "python",
   "nbconvert_exporter": "python",
   "pygments_lexer": "ipython3",
   "version": "3.11.4"
  },
  "orig_nbformat": 4
 },
 "nbformat": 4,
 "nbformat_minor": 2
}
